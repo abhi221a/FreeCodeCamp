{
  "nbformat": 4,
  "nbformat_minor": 0,
  "metadata": {
    "colab": {
      "name": "Intro to tensorflow.ipynb",
      "provenance": [],
      "authorship_tag": "ABX9TyP+Y26X5XY9gYWN99fEA1Z9",
      "include_colab_link": true
    },
    "kernelspec": {
      "name": "python3",
      "display_name": "Python 3"
    },
    "language_info": {
      "name": "python"
    }
  },
  "cells": [
    {
      "cell_type": "markdown",
      "metadata": {
        "id": "view-in-github",
        "colab_type": "text"
      },
      "source": [
        "<a href=\"https://colab.research.google.com/github/abhi221a/FreeCodeCamp/blob/main/Intro_to_tensorflow.ipynb\" target=\"_parent\"><img src=\"https://colab.research.google.com/assets/colab-badge.svg\" alt=\"Open In Colab\"/></a>"
      ]
    },
    {
      "cell_type": "code",
      "source": [
        "import tensorflow as tf"
      ],
      "metadata": {
        "id": "NjJlrlrUS36C"
      },
      "execution_count": 3,
      "outputs": []
    },
    {
      "cell_type": "code",
      "execution_count": 4,
      "metadata": {
        "id": "lhRcmFofSajC"
      },
      "outputs": [],
      "source": [
        "string = tf.Variable(\"This isa string\", tf.string)"
      ]
    },
    {
      "cell_type": "code",
      "source": [
        "number = tf.Variable(324, tf.int16)"
      ],
      "metadata": {
        "id": "FOlJO2SNTFEq"
      },
      "execution_count": 5,
      "outputs": []
    },
    {
      "cell_type": "code",
      "source": [
        "floating = tf.Variable(3.567, tf.float64)"
      ],
      "metadata": {
        "id": "dHjw7yUuTOaD"
      },
      "execution_count": 6,
      "outputs": []
    },
    {
      "cell_type": "markdown",
      "source": [
        "## Rank/Degree of Tensors\n",
        "\n",
        "Another word for rank is degree, these terms simply mean the number of dimensions involved in the tensor.What we created above is a tensor of rank 0, also known as scalar.\n",
        "\n",
        "Now we'll create some tensors of higher degrees"
      ],
      "metadata": {
        "id": "divQUR0tUaE-"
      }
    },
    {
      "cell_type": "code",
      "source": [
        "rank1_tensor = tf.Variable([\"test\", \"ok\",\"tim\"], tf.string)"
      ],
      "metadata": {
        "id": "231g1y_JU-WZ"
      },
      "execution_count": 12,
      "outputs": []
    },
    {
      "cell_type": "code",
      "source": [
        "rank2_tensor = tf.Variable([[\"test\", \"ok\"], [\"test\", \"yes\"]], tf.string)"
      ],
      "metadata": {
        "id": "UyCpQ-y7VJBf"
      },
      "execution_count": 10,
      "outputs": []
    },
    {
      "cell_type": "markdown",
      "source": [
        "To determine the rank of a tensor we can call the following method"
      ],
      "metadata": {
        "id": "l4kOd50KVgCc"
      }
    },
    {
      "cell_type": "code",
      "source": [
        "tf.rank(rank2_tensor)"
      ],
      "metadata": {
        "colab": {
          "base_uri": "https://localhost:8080/"
        },
        "id": "mwjm2s-IVnZp",
        "outputId": "45fe85f0-9b90-4bdd-faa6-58e33095f618"
      },
      "execution_count": 11,
      "outputs": [
        {
          "output_type": "execute_result",
          "data": {
            "text/plain": [
              "<tf.Tensor: shape=(), dtype=int32, numpy=2>"
            ]
          },
          "metadata": {},
          "execution_count": 11
        }
      ]
    },
    {
      "cell_type": "markdown",
      "source": [
        "##Shape of Tensors\n",
        "\n",
        "Now that we've talked about the rank of tensors its time to talk about the shape. The shape of a tensor is simply the amount of elements that exist in each dimension. TensorFlow will try to determine the shape of a tensor but sometimes it may be unkown.\n",
        "\n",
        "To get the shape of a tensor we use the shape attribute."
      ],
      "metadata": {
        "id": "yarVnE_wVvSy"
      }
    },
    {
      "cell_type": "code",
      "source": [
        "rank2_tensor.shape"
      ],
      "metadata": {
        "colab": {
          "base_uri": "https://localhost:8080/"
        },
        "id": "pn-nM7gDWh78",
        "outputId": "53dbf001-e1ee-4bbc-f70d-6fa32f247209"
      },
      "execution_count": 15,
      "outputs": [
        {
          "output_type": "execute_result",
          "data": {
            "text/plain": [
              "TensorShape([2, 2])"
            ]
          },
          "metadata": {},
          "execution_count": 15
        }
      ]
    },
    {
      "cell_type": "markdown",
      "source": [
        "## Changing the Shape\n",
        "\n",
        "The number of elements of a tensor is the product of the sizes of all its shapes. There are often many shapes that have the same number of elements, making it convinient to be able to change the shape of a tensor.\n",
        "\n",
        "The example below shows how to change the shape of a tensor."
      ],
      "metadata": {
        "id": "h7m74nstWy2c"
      }
    },
    {
      "cell_type": "code",
      "source": [
        "tensor1 = tf.ones([1,2,3]) # tf.ones() creates a shape [1,2,3] tensor full of ones [1 list, inside, we have 2 list, inside each interior list, we have 3 elements]\n",
        "tensor2 = tf.reshape(tensor1, [2,3,1]) # reshape existing data to shape [2,3,1]\n",
        "tensor3 = tf.reshape(tensor2, [3, -1]) # -1 tells the tensor to calculate the size of the dimension in the place\n",
        "                                       # this will reshape the tensor to [3,2]\n",
        "\n",
        "#the number of elements in the reshaped tansor MUST match the number in the original"
      ],
      "metadata": {
        "id": "hh-mpdfQXWaq"
      },
      "execution_count": 19,
      "outputs": []
    },
    {
      "cell_type": "markdown",
      "source": [
        "Now let's have a look at our different tensors."
      ],
      "metadata": {
        "id": "s5fspvdqZw_b"
      }
    },
    {
      "cell_type": "code",
      "source": [
        "print(tensor1)\n",
        "print(tensor2)\n",
        "print(tensor3)\n",
        "\n",
        "# NOtice tha changes in the shape"
      ],
      "metadata": {
        "colab": {
          "base_uri": "https://localhost:8080/"
        },
        "id": "H_kax0wAZ1f4",
        "outputId": "861ddfe6-24fc-4f73-873b-06eb0423491e"
      },
      "execution_count": 17,
      "outputs": [
        {
          "output_type": "stream",
          "name": "stdout",
          "text": [
            "tf.Tensor(\n",
            "[[[1. 1. 1.]\n",
            "  [1. 1. 1.]]], shape=(1, 2, 3), dtype=float32)\n",
            "tf.Tensor(\n",
            "[[[1.]\n",
            "  [1.]\n",
            "  [1.]]\n",
            "\n",
            " [[1.]\n",
            "  [1.]\n",
            "  [1.]]], shape=(2, 3, 1), dtype=float32)\n",
            "tf.Tensor(\n",
            "[[1. 1.]\n",
            " [1. 1.]\n",
            " [1. 1.]], shape=(3, 2), dtype=float32)\n"
          ]
        }
      ]
    },
    {
      "cell_type": "markdown",
      "source": [
        "## Type of Tensors\n",
        "\n",
        "Before we go to far I will mention that there are different types of tensors. These are the most commonly used and we will talk more in depth about each as they are used.\n",
        "\n",
        "  \n",
        "\n",
        "*   Variable\n",
        "*   Constant\n",
        "*   Placeholder\n",
        "*   SparseTensor\n",
        "\n",
        "With the exception of Variable all of these tensors are immuttable, meaning their value may not change during execution. For now it is sufficient to understand that we use the Variable tensor when we want to potentially change that value of our tensor.\n",
        "\n",
        "\n",
        "\n",
        "\n"
      ],
      "metadata": {
        "id": "zSRK_dTbcT6t"
      }
    },
    {
      "cell_type": "markdown",
      "source": [
        "## Evaluating Tensors\n",
        "\n",
        "There will be some times throughout this guide that we need to evaluate a tensor. In other words, get its value. Since tensors represent a partially complete computation we will sometimes need to run what's called a _session_ to evaluate the tensor.\n",
        "There are many different ways to achieve this but I will note the simplest way bellow."
      ],
      "metadata": {
        "id": "-hb8q_s0dgkB"
      }
    },
    {
      "cell_type": "code",
      "source": [
        "with tf.Session() as sess:  # creates a session using the default graph\n",
        "  tensor.eval()     # tensor will of course be the name of your tensor"
      ],
      "metadata": {
        "id": "tzluAOtIgojK"
      },
      "execution_count": null,
      "outputs": []
    },
    {
      "cell_type": "markdown",
      "source": [
        "In the code above we evaluated the tensor variable that was stored in the **default graph**. The default graph holds all operations not specified to any other graph. It is possible to create our own seperate graphs but now we will stick with the default."
      ],
      "metadata": {
        "id": "ZRVwjCTYg6dD"
      }
    }
  ]
}