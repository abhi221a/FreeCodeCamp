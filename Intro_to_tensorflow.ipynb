{
  "nbformat": 4,
  "nbformat_minor": 0,
  "metadata": {
    "colab": {
      "name": "Intro to tensorflow.ipynb",
      "provenance": [],
      "authorship_tag": "ABX9TyOCdotofY7UPVu6zuCFJcRS",
      "include_colab_link": true
    },
    "kernelspec": {
      "name": "python3",
      "display_name": "Python 3"
    },
    "language_info": {
      "name": "python"
    }
  },
  "cells": [
    {
      "cell_type": "markdown",
      "metadata": {
        "id": "view-in-github",
        "colab_type": "text"
      },
      "source": [
        "<a href=\"https://colab.research.google.com/github/abhi221a/FreeCodeCamp/blob/main/Intro_to_tensorflow.ipynb\" target=\"_parent\"><img src=\"https://colab.research.google.com/assets/colab-badge.svg\" alt=\"Open In Colab\"/></a>"
      ]
    },
    {
      "cell_type": "code",
      "source": [
        "import tensorflow as tf"
      ],
      "metadata": {
        "id": "NjJlrlrUS36C"
      },
      "execution_count": 3,
      "outputs": []
    },
    {
      "cell_type": "code",
      "execution_count": 4,
      "metadata": {
        "id": "lhRcmFofSajC"
      },
      "outputs": [],
      "source": [
        "string = tf.Variable(\"This isa string\", tf.string)"
      ]
    },
    {
      "cell_type": "code",
      "source": [
        "number = tf.Variable(324, tf.int16)"
      ],
      "metadata": {
        "id": "FOlJO2SNTFEq"
      },
      "execution_count": 5,
      "outputs": []
    },
    {
      "cell_type": "code",
      "source": [
        "floating = tf.Variable(3.567, tf.float64)"
      ],
      "metadata": {
        "id": "dHjw7yUuTOaD"
      },
      "execution_count": 6,
      "outputs": []
    },
    {
      "cell_type": "markdown",
      "source": [
        "## Rank/Degree of Tensors\n",
        "\n",
        "Another word for rank is degree, these terms simply mean the number of dimensions involved in the tensor.What we created above is a tensor of rank 0, also known as scalar.\n",
        "\n",
        "Now we'll create some tensors of higher degrees"
      ],
      "metadata": {
        "id": "divQUR0tUaE-"
      }
    },
    {
      "cell_type": "code",
      "source": [
        "rank1_tensor = tf.Variable([\"test\", \"ok\",\"tim\"], tf.string)"
      ],
      "metadata": {
        "id": "231g1y_JU-WZ"
      },
      "execution_count": 12,
      "outputs": []
    },
    {
      "cell_type": "code",
      "source": [
        "rank2_tensor = tf.Variable([[\"test\", \"ok\"], [\"test\", \"yes\"]], tf.string)"
      ],
      "metadata": {
        "id": "UyCpQ-y7VJBf"
      },
      "execution_count": 10,
      "outputs": []
    },
    {
      "cell_type": "markdown",
      "source": [
        "To determine the rank of a tensor we can call the following method"
      ],
      "metadata": {
        "id": "l4kOd50KVgCc"
      }
    },
    {
      "cell_type": "code",
      "source": [
        "tf.rank(rank2_tensor)"
      ],
      "metadata": {
        "colab": {
          "base_uri": "https://localhost:8080/"
        },
        "id": "mwjm2s-IVnZp",
        "outputId": "45fe85f0-9b90-4bdd-faa6-58e33095f618"
      },
      "execution_count": 11,
      "outputs": [
        {
          "output_type": "execute_result",
          "data": {
            "text/plain": [
              "<tf.Tensor: shape=(), dtype=int32, numpy=2>"
            ]
          },
          "metadata": {},
          "execution_count": 11
        }
      ]
    },
    {
      "cell_type": "markdown",
      "source": [
        "##Shape of Tensors\n",
        "\n",
        "Now that we've talked about the rank of tensors its time to talk about the shape. The shape of a tensor is simply the amount of elements that exist in each dimension. TensorFlow will try to determine the shape of a tensor but sometimes it may be unkown.\n",
        "\n",
        "To get the shape of a tensor we use the shape attribute."
      ],
      "metadata": {
        "id": "yarVnE_wVvSy"
      }
    },
    {
      "cell_type": "code",
      "source": [
        "rank2_tensor.shape"
      ],
      "metadata": {
        "colab": {
          "base_uri": "https://localhost:8080/"
        },
        "id": "pn-nM7gDWh78",
        "outputId": "53dbf001-e1ee-4bbc-f70d-6fa32f247209"
      },
      "execution_count": 15,
      "outputs": [
        {
          "output_type": "execute_result",
          "data": {
            "text/plain": [
              "TensorShape([2, 2])"
            ]
          },
          "metadata": {},
          "execution_count": 15
        }
      ]
    },
    {
      "cell_type": "markdown",
      "source": [
        "## Changing the Shape\n",
        "\n",
        "The number of elements of a tensor is the product of the sizes of all its shapes. There are often many shapes that have the same number of elements, making it convinient to be able to change the shape of a tensor.\n",
        "\n",
        "The example below shows how to change the shape of a tensor."
      ],
      "metadata": {
        "id": "h7m74nstWy2c"
      }
    },
    {
      "cell_type": "code",
      "source": [
        ""
      ],
      "metadata": {
        "id": "hh-mpdfQXWaq"
      },
      "execution_count": null,
      "outputs": []
    }
  ]
}